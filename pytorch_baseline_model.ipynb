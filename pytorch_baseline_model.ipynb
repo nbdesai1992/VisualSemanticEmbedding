{
 "cells": [
  {
   "cell_type": "code",
   "execution_count": 1,
   "id": "2ca8825a",
   "metadata": {},
   "outputs": [],
   "source": [
    "# base_dir = '/content/drive/MyDrive/CS760-project'\n",
    "base_dir = '.'\n",
    "\n",
    "import warnings\n",
    "warnings.simplefilter('ignore')"
   ]
  },
  {
   "cell_type": "markdown",
   "id": "c033ec7b",
   "metadata": {},
   "source": [
    "# Imports"
   ]
  },
  {
   "cell_type": "code",
   "execution_count": 2,
   "id": "59fa1b52",
   "metadata": {},
   "outputs": [],
   "source": [
    "%matplotlib inline\n",
    "import numpy as np\n",
    "import matplotlib\n",
    "import matplotlib.pyplot as plt\n",
    "from IPython.display import display\n",
    "from sklearn.model_selection import train_test_split\n",
    "\n",
    "matplotlib.rcParams['figure.facecolor'] = '#ffffff'"
   ]
  },
  {
   "cell_type": "code",
   "execution_count": 3,
   "id": "bad6b69c",
   "metadata": {},
   "outputs": [],
   "source": [
    "# torch\n",
    "\n",
    "import torch\n",
    "import torch.nn as nn\n",
    "import torch.optim as optim\n",
    "from torchinfo import summary\n",
    "from torchviz import make_dot\n",
    "import torchvision.datasets as datasets\n",
    "import torchvision.transforms as transforms\n",
    "# from torch.utils.data import DataLoader\n",
    "\n",
    "import os\n",
    "import torchvision\n",
    "from torchvision.datasets.utils import download_url\n",
    "from torchvision.datasets import ImageFolder\n",
    "# from torchvision.transforms import ToTensor\n",
    "import torchvision.transforms as T\n",
    "from torch.utils.data import random_split\n",
    "import torch.utils.data as data\n",
    "from torch.utils.data.dataloader import DataLoader\n",
    "\n",
    "import matplotlib.pyplot as plt\n",
    "from PIL import Image\n",
    "\n",
    "\n",
    "import torch.nn as nn\n",
    "import torch.nn.functional as F\n",
    "\n",
    "import gensim\n",
    "import gensim.downloader"
   ]
  },
  {
   "cell_type": "code",
   "execution_count": 4,
   "id": "747334a6",
   "metadata": {},
   "outputs": [],
   "source": [
    "# default font\n",
    "plt.rcParams['font.size'] = 14\n",
    "\n",
    "# default graph size\n",
    "plt.rcParams['figure.figsize'] = (4,4)\n",
    "\n",
    "# default graph grid\n",
    "# plt.rcParams['axes.grid'] = True\n",
    "\n",
    "# numpy precision\n",
    "np.set_printoptions(suppress=True, precision=5)"
   ]
  },
  {
   "cell_type": "markdown",
   "id": "ce26039e",
   "metadata": {},
   "source": [
    "# GPU Support"
   ]
  },
  {
   "cell_type": "code",
   "execution_count": 5,
   "id": "cd82df7d",
   "metadata": {},
   "outputs": [
    {
     "name": "stdout",
     "output_type": "stream",
     "text": [
      "cpu\n"
     ]
    }
   ],
   "source": [
    "# device\n",
    "\n",
    "device = torch.device(\"cuda:0\" if torch.cuda.is_available() else \"cpu\")\n",
    "print(device)"
   ]
  },
  {
   "cell_type": "markdown",
   "id": "ba129a59",
   "metadata": {},
   "source": [
    "# Data Preparation"
   ]
  },
  {
   "cell_type": "code",
   "execution_count": 6,
   "id": "280ad3d1",
   "metadata": {},
   "outputs": [],
   "source": [
    "#data_dir_path = '/home/yohei/project/cs760/tiny-imagenet-200'\n",
    "data_dir_path = 'D:/tiny-imagenet-200'\n",
    "\n",
    "# data augmentation\n",
    "\n",
    "def data_transform():\n",
    "    return T.Compose([\n",
    "        T.Resize(64),\n",
    "        T.ColorJitter(brightness=0.2),\n",
    "        T.RandomAffine(degrees=15, scale=(0.8,1.2), shear=10),\n",
    "        T.RandomHorizontalFlip(),\n",
    "        #T.RandomResizedCrop(64,scale=(0.7, 1.4)),\n",
    "        T.ToTensor(),\n",
    "    ])    \n",
    "    \n",
    "# create dataset object\n",
    "train_dataset = ImageFolder(data_dir_path + '/train', transform=data_transform())\n",
    "test_dataset = ImageFolder(data_dir_path + '/test', transform=T.ToTensor())\n",
    "\n",
    "d = {}\n",
    "f = open(data_dir_path+'/words.txt','r') \n",
    "while(1):\n",
    "    try:\n",
    "        key, val = f.readline().split(\"\\t\")\n",
    "        d[key] = val[:-1]\n",
    "    except Exception:\n",
    "        break\n",
    "        \n",
    "for i in range(len(train_dataset.classes)):\n",
    "    labels = d[train_dataset.classes[i]].split(',')\n",
    "    train_dataset.classes[i] = labels[0]"
   ]
  },
  {
   "cell_type": "code",
   "execution_count": 7,
   "id": "c9001625",
   "metadata": {},
   "outputs": [
    {
     "data": {
      "text/plain": [
       "(40000, 10000)"
      ]
     },
     "execution_count": 7,
     "metadata": {},
     "output_type": "execute_result"
    }
   ],
   "source": [
    "targets = np.array(train_dataset.targets)\n",
    "train_ind, temp_ind = train_test_split(np.arange(len(targets)),test_size=0.6,shuffle=True,stratify=targets)\n",
    "test_ind, val_ind = train_test_split(temp_ind,test_size=(1/6),stratify=targets[temp_ind])\n",
    "\n",
    "train_sampler = data.SubsetRandomSampler(train_ind)\n",
    "val_sampler = data.SubsetRandomSampler(val_ind)\n",
    "\n",
    "len(train_ind), len(val_ind)"
   ]
  },
  {
   "cell_type": "code",
   "execution_count": 8,
   "id": "fc71865a",
   "metadata": {},
   "outputs": [],
   "source": [
    "def count_similar(outputs, labels, n=10):\n",
    "    count = 0\n",
    "\n",
    "    for output, label in zip(outputs, labels):\n",
    "        max_n_index = output.detach().numpy().argsort()[-n:][::-1]\n",
    "        label = label.item()\n",
    "        \n",
    "        if label in max_n_index:\n",
    "            count += 1\n",
    "\n",
    "    return count"
   ]
  },
  {
   "cell_type": "code",
   "execution_count": 9,
   "id": "d48b89d1",
   "metadata": {},
   "outputs": [
    {
     "name": "stdout",
     "output_type": "stream",
     "text": [
      "Label: 0 - goldfish\n"
     ]
    },
    {
     "data": {
      "image/png": "[encoded data removed]",
      "text/plain": [
       "<Figure size 288x288 with 1 Axes>"
      ]
     },
     "metadata": {},
     "output_type": "display_data"
    }
   ],
   "source": [
    "def show_example(img, label):\n",
    "    print('Label: '+str(label)+' -',train_dataset.classes[label])\n",
    "    plt.imshow(img.permute(1, 2, 0))\n",
    "    \n",
    "show_example(*train_dataset[101])"
   ]
  },
  {
   "cell_type": "markdown",
   "id": "97827dc3",
   "metadata": {},
   "source": [
    "## Model Fitting"
   ]
  },
  {
   "cell_type": "code",
   "execution_count": 10,
   "id": "47b9aa7d",
   "metadata": {},
   "outputs": [],
   "source": [
    "def fit(net, optimizer, criterion, num_epochs, train_loader, test_loader, device, history):\n",
    "\n",
    "    # tqdmライブラリのインポート\n",
    "    from tqdm.notebook import tqdm\n",
    "\n",
    "    base_epochs = len(history)\n",
    "    \n",
    "    n = 1\n",
    "  \n",
    "    for epoch in range(base_epochs, num_epochs+base_epochs):\n",
    "        # learning rate decay\n",
    "        if (epoch+1) % (num_epochs/2) == 0:\n",
    "            for parm in optimizer.param_groups:\n",
    "                parm['lr'] /=  10 #3.16  #sqrt(10)\n",
    "        train_loss = 0.0\n",
    "        train_acc = 0.0\n",
    "        val_loss = 0.0\n",
    "        val_acc = 0.0\n",
    "\n",
    "        #訓練フェーズ: training phase\n",
    "        net.train()\n",
    "\n",
    "        for inputs, labels in tqdm(train_loader):\n",
    "            inputs = inputs.to(device)\n",
    "            labels = labels.to(device)\n",
    "            \n",
    "            # 勾配の初期化: initalize the gradient\n",
    "            optimizer.zero_grad()\n",
    "\n",
    "            # 予測計算: calc output\n",
    "            outputs = net(inputs)\n",
    "\n",
    "            # 損失計算: calc loss\n",
    "            loss = criterion(outputs, labels)\n",
    "            train_loss += loss.item()\n",
    "\n",
    "            # 勾配計算: calc gradient\n",
    "            loss.backward()\n",
    "\n",
    "            # パラメータ修正: parameter \n",
    "            optimizer.step()\n",
    "            \n",
    "            train_acc += count_similar(outputs, labels, n)\n",
    "\n",
    "        #予測フェーズ: test phase\n",
    "        net.eval()\n",
    "        count = 0\n",
    "\n",
    "        for inputs, labels in test_loader:\n",
    "            count += len(labels)\n",
    "            inputs = inputs.to(device)\n",
    "            labels = labels.to(device)\n",
    "\n",
    "            # 予測計算: calc prediction\n",
    "            outputs = net(inputs)\n",
    "\n",
    "            # 損失計算: calc loss\n",
    "            loss = criterion(outputs, labels)\n",
    "            val_loss += loss.item()\n",
    "            \n",
    "            val_acc += count_similar(outputs, labels, n)\n",
    "        \n",
    "        avg_train_loss = train_loss/len(train_ind)\n",
    "        avg_train_acc = train_acc/len(train_ind)\n",
    "        avg_val_loss = val_loss/len(val_ind)\n",
    "        avg_val_acc = val_acc/len(val_ind)\n",
    "    \n",
    "        print (f'Epoch [{(epoch+1)}/{num_epochs+base_epochs}], loss: {avg_train_loss:.5f} acc: {avg_train_acc:.5f} val_loss: {avg_val_loss:.5f}, val_acc: {avg_val_acc:.5f}')\n",
    "        item = np.array([epoch+1, avg_train_loss, avg_train_acc, avg_val_loss, avg_val_acc])\n",
    "        history = np.vstack((history, item))\n",
    "    return history"
   ]
  },
  {
   "cell_type": "markdown",
   "id": "562be903",
   "metadata": {},
   "source": [
    "## Model Performance"
   ]
  },
  {
   "cell_type": "code",
   "execution_count": 11,
   "id": "9afca78e",
   "metadata": {},
   "outputs": [],
   "source": [
    "# 学習ログ解析: the log for learning\n",
    "\n",
    "def evaluate_history(history):\n",
    "    #損失と精度の確認: loss and accuracy\n",
    "    print(f'Initial: loss: {history[0,3]:.5f} accuracy: {history[0,4]:.5f}') \n",
    "    print(f'Final: loss: {history[-1,3]:.5f} accuracy: {history[-1,4]:.5f}' )\n",
    "\n",
    "    num_epochs = len(history)\n",
    "    unit = num_epochs / 5\n",
    "\n",
    "    # 学習曲線の表示 (損失): learning curve (loss)\n",
    "    plt.figure(figsize=(9,8))\n",
    "    plt.plot(history[:,0], history[:,1], 'b', label='Training')\n",
    "    plt.plot(history[:,0], history[:,3], 'k', label='Test(Val)')\n",
    "    plt.xticks(np.arange(0,num_epochs+1, unit))\n",
    "    plt.xlabel('# of recursion')\n",
    "    plt.ylabel('Loss')\n",
    "    plt.title('Learning Curve (Loss)')\n",
    "    plt.legend()\n",
    "    plt.show()\n",
    "\n",
    "    # 学習曲線の表示 (精度): learning curve (accuracy)\n",
    "    plt.figure(figsize=(9,8))\n",
    "    plt.plot(history[:,0], history[:,2], 'b', label='Training')\n",
    "    plt.plot(history[:,0], history[:,4], 'k', label='Test(Val)')\n",
    "    plt.xticks(np.arange(0,num_epochs+1,unit))\n",
    "    plt.xlabel('# of recursion')\n",
    "    plt.ylabel('Accuracy')\n",
    "    plt.title('Learning Curve (Accuracy)')\n",
    "    plt.legend()\n",
    "    plt.show()"
   ]
  },
  {
   "cell_type": "code",
   "execution_count": 13,
   "id": "c9176ee8",
   "metadata": {},
   "outputs": [],
   "source": [
    "# PyTorch乱数固定用\n",
    "\n",
    "def torch_seed(seed=123):\n",
    "    torch.manual_seed(seed)\n",
    "    torch.cuda.manual_seed(seed)\n",
    "    torch.backends.cudnn.deterministic = True\n",
    "    torch.use_deterministic_algorithms = True"
   ]
  },
  {
   "cell_type": "markdown",
   "id": "edeeeb7f",
   "metadata": {},
   "source": [
    "## Data Pipelines"
   ]
  },
  {
   "cell_type": "code",
   "execution_count": 14,
   "id": "4886accf",
   "metadata": {},
   "outputs": [],
   "source": [
    "#batch_size = 100\n",
    "batch_size = 64\n",
    "\n",
    "# DataLoarder of Training data\n",
    "train_loader = DataLoader(train_dataset, batch_size=batch_size, sampler=train_sampler)\n",
    "\n",
    "# DataLoarder of Test data\n",
    "test_loader = DataLoader(train_dataset,  batch_size=batch_size, sampler=val_sampler) "
   ]
  },
  {
   "cell_type": "markdown",
   "id": "6861484c",
   "metadata": {},
   "source": [
    "# Def Model"
   ]
  },
  {
   "cell_type": "markdown",
   "id": "cc36c37d",
   "metadata": {},
   "source": [
    "### Parameters"
   ]
  },
  {
   "cell_type": "code",
   "execution_count": 16,
   "id": "035b4384",
   "metadata": {},
   "outputs": [
    {
     "name": "stdout",
     "output_type": "stream",
     "text": [
      "n_hidden: 1024 n_output: 200\n"
     ]
    }
   ],
   "source": [
    "# output degree: 出力次元数\n",
    "# number of classes: 分類先クラス数\n",
    "n_output = len(classes)\n",
    "#n_output = 200  # TODO: change to 500 (size of word vector) later\n",
    "\n",
    "# number of nodes of hidden layer 隠れ層のノード数\n",
    "n_hidden = 1024\n",
    "\n",
    "print(f'n_hidden: {n_hidden} n_output: {n_output}')\n",
    "\n"
   ]
  },
  {
   "cell_type": "markdown",
   "id": "bc83c956",
   "metadata": {},
   "source": [
    "### CNN Model"
   ]
  },
  {
   "cell_type": "code",
   "execution_count": 17,
   "id": "8502d4ae",
   "metadata": {},
   "outputs": [],
   "source": [
    "class CNN(nn.Module):\n",
    "    def __init__(self, n_output, n_hidden):\n",
    "        super().__init__()\n",
    "        self.conv1 = nn.Conv2d(3, 16, kernel_size=5, stride=1, padding=2)\n",
    "        self.conv2 = nn.Conv2d(16, 16, kernel_size=3, stride=1, padding=1)\n",
    "        self.bn2 = nn.BatchNorm2d(16)\n",
    "        self.conv3 = nn.Conv2d(16, 32, kernel_size=3, stride=1, padding=1)\n",
    "        self.bn3 = nn.BatchNorm2d(32)\n",
    "        self.relu = nn.ReLU(inplace=True)\n",
    "        self.maxpool = nn.MaxPool2d((2,2))\n",
    "        self.flatten = nn.Flatten()\n",
    "        self.dropout1 = nn.Dropout(p=0.3)\n",
    "        self.dropout2 = nn.Dropout(p=0.5)\n",
    "        self.l1 = nn.Linear(2048, n_hidden) # 16*32*32\n",
    "        self.l2 = nn.Linear(n_hidden, n_output)\n",
    "        \n",
    "        self.features = nn.Sequential(\n",
    "            \n",
    "            self.conv1,\n",
    "            self.relu,\n",
    "            self.maxpool,\n",
    "            \n",
    "            self.conv2,\n",
    "            self.relu,\n",
    "            self.bn2,\n",
    "            self.maxpool,\n",
    "            self.dropout1,\n",
    "            \n",
    "            self.conv3,\n",
    "            self.relu,\n",
    "            self.bn3,\n",
    "            self.maxpool,\n",
    "            self.dropout1,\n",
    "\n",
    "        )\n",
    "\n",
    "        self.classifier = nn.Sequential(\n",
    "           self.l1,\n",
    "           self.relu,\n",
    "           self.dropout2,\n",
    "           self.l2)\n",
    "\n",
    "    def forward(self, x):\n",
    "        x1 = self.features(x)\n",
    "        x2 = self.flatten(x1)\n",
    "        x3 = self.classifier(x2)\n",
    "        return x3"
   ]
  },
  {
   "cell_type": "markdown",
   "id": "9a67af83",
   "metadata": {},
   "source": [
    "### Create model instance"
   ]
  },
  {
   "cell_type": "code",
   "execution_count": 18,
   "id": "6d6eae7d",
   "metadata": {},
   "outputs": [
    {
     "data": {
      "text/plain": [
       "==========================================================================================\n",
       "Layer (type:depth-idx)                   Output Shape              Param #\n",
       "==========================================================================================\n",
       "CNN                                      --                        --\n",
       "├─Sequential: 1-1                        [64, 32, 8, 8]            8,272\n",
       "├─Conv2d: 1-2                            [64, 16, 64, 64]          1,216\n",
       "├─ReLU: 1-3                              [64, 16, 64, 64]          --\n",
       "├─MaxPool2d: 1-4                         [64, 16, 32, 32]          --\n",
       "├─Conv2d: 1-5                            [64, 16, 32, 32]          2,320\n",
       "├─ReLU: 1-6                              [64, 16, 32, 32]          --\n",
       "├─BatchNorm2d: 1-7                       [64, 16, 32, 32]          32\n",
       "├─MaxPool2d: 1-8                         [64, 16, 16, 16]          --\n",
       "├─Dropout: 1-9                           [64, 16, 16, 16]          --\n",
       "├─Conv2d: 1-10                           [64, 32, 16, 16]          4,640\n",
       "├─ReLU: 1-11                             [64, 32, 16, 16]          --\n",
       "├─BatchNorm2d: 1-12                      [64, 32, 16, 16]          64\n",
       "├─MaxPool2d: 1-13                        [64, 32, 8, 8]            --\n",
       "├─Dropout: 1-14                          [64, 32, 8, 8]            --\n",
       "├─Flatten: 1-15                          [64, 2048]                --\n",
       "├─Sequential: 1-16                       [64, 200]                 2,303,176\n",
       "├─Linear: 1-17                           [64, 1024]                2,098,176\n",
       "├─ReLU: 1-18                             [64, 1024]                --\n",
       "├─Dropout: 1-19                          [64, 1024]                --\n",
       "├─Linear: 1-20                           [64, 200]                 205,000\n",
       "==========================================================================================\n",
       "Total params: 2,311,448\n",
       "Trainable params: 2,311,448\n",
       "Non-trainable params: 0\n",
       "Total mult-adds (G): 1.39\n",
       "==========================================================================================\n",
       "Input size (MB): 3.15\n",
       "Forward/backward pass size (MB): 59.35\n",
       "Params size (MB): 9.25\n",
       "Estimated Total Size (MB): 71.74\n",
       "=========================================================================================="
      ]
     },
     "execution_count": 18,
     "metadata": {},
     "output_type": "execute_result"
    }
   ],
   "source": [
    "# init randam, 乱数初期化\n",
    "torch_seed()\n",
    "\n",
    "# create model instanceモデルインスタンス生成\n",
    "net = CNN(n_output, n_hidden).to(device)\n",
    "\n",
    "# summary of model:モデルのサマリー表示\n",
    "summary(net,(batch_size,3,64,64),depth=1)"
   ]
  },
  {
   "cell_type": "code",
   "execution_count": 19,
   "id": "702aa541",
   "metadata": {},
   "outputs": [
    {
     "data": {
      "application/vnd.jupyter.widget-view+json": {
       "model_id": "6df0a40786bc40b285920ddb5a2670a3",
       "version_major": 2,
       "version_minor": 0
      },
      "text/plain": [
       "  0%|          | 0/625 [00:00<?, ?it/s]"
      ]
     },
     "metadata": {},
     "output_type": "display_data"
    },
    {
     "name": "stdout",
     "output_type": "stream",
     "text": [
      "Epoch [1/40], loss: 0.07966 acc: 0.02368 val_loss: 0.07537, val_acc: 0.04860\n"
     ]
    },
    {
     "data": {
      "application/vnd.jupyter.widget-view+json": {
       "model_id": "aaf793457a624d8796b63e0544d84240",
       "version_major": 2,
       "version_minor": 0
      },
      "text/plain": [
       "  0%|          | 0/625 [00:00<?, ?it/s]"
      ]
     },
     "metadata": {},
     "output_type": "display_data"
    },
    {
     "name": "stdout",
     "output_type": "stream",
     "text": [
      "Epoch [2/40], loss: 0.07517 acc: 0.04523 val_loss: 0.07018, val_acc: 0.08430\n"
     ]
    },
    {
     "data": {
      "application/vnd.jupyter.widget-view+json": {
       "model_id": "43c5f1e597534624860ed6c72e3e79fd",
       "version_major": 2,
       "version_minor": 0
      },
      "text/plain": [
       "  0%|          | 0/625 [00:00<?, ?it/s]"
      ]
     },
     "metadata": {},
     "output_type": "display_data"
    },
    {
     "name": "stdout",
     "output_type": "stream",
     "text": [
      "Epoch [3/40], loss: 0.07217 acc: 0.06445 val_loss: 0.06857, val_acc: 0.09360\n"
     ]
    },
    {
     "data": {
      "application/vnd.jupyter.widget-view+json": {
       "model_id": "363c0b8e41ee4665b65b66627e7694da",
       "version_major": 2,
       "version_minor": 0
      },
      "text/plain": [
       "  0%|          | 0/625 [00:00<?, ?it/s]"
      ]
     },
     "metadata": {},
     "output_type": "display_data"
    },
    {
     "name": "stdout",
     "output_type": "stream",
     "text": [
      "Epoch [4/40], loss: 0.07018 acc: 0.07712 val_loss: 0.06650, val_acc: 0.11000\n"
     ]
    },
    {
     "data": {
      "application/vnd.jupyter.widget-view+json": {
       "model_id": "b1dd44885976464c97483e0106811a49",
       "version_major": 2,
       "version_minor": 0
      },
      "text/plain": [
       "  0%|          | 0/625 [00:00<?, ?it/s]"
      ]
     },
     "metadata": {},
     "output_type": "display_data"
    },
    {
     "name": "stdout",
     "output_type": "stream",
     "text": [
      "Epoch [5/40], loss: 0.06875 acc: 0.08682 val_loss: 0.06720, val_acc: 0.11540\n"
     ]
    },
    {
     "data": {
      "application/vnd.jupyter.widget-view+json": {
       "model_id": "4ba29c59e4b844248d44226a629db63e",
       "version_major": 2,
       "version_minor": 0
      },
      "text/plain": [
       "  0%|          | 0/625 [00:00<?, ?it/s]"
      ]
     },
     "metadata": {},
     "output_type": "display_data"
    },
    {
     "name": "stdout",
     "output_type": "stream",
     "text": [
      "Epoch [6/40], loss: 0.06738 acc: 0.10075 val_loss: 0.06575, val_acc: 0.12640\n"
     ]
    },
    {
     "data": {
      "application/vnd.jupyter.widget-view+json": {
       "model_id": "f2adee8184fb4774b66d106c799996fe",
       "version_major": 2,
       "version_minor": 0
      },
      "text/plain": [
       "  0%|          | 0/625 [00:00<?, ?it/s]"
      ]
     },
     "metadata": {},
     "output_type": "display_data"
    },
    {
     "name": "stdout",
     "output_type": "stream",
     "text": [
      "Epoch [7/40], loss: 0.06615 acc: 0.10837 val_loss: 0.06330, val_acc: 0.14100\n"
     ]
    },
    {
     "data": {
      "application/vnd.jupyter.widget-view+json": {
       "model_id": "f696fc6a357e49e5967f4de93f6b9bc6",
       "version_major": 2,
       "version_minor": 0
      },
      "text/plain": [
       "  0%|          | 0/625 [00:00<?, ?it/s]"
      ]
     },
     "metadata": {},
     "output_type": "display_data"
    },
    {
     "name": "stdout",
     "output_type": "stream",
     "text": [
      "Epoch [8/40], loss: 0.06522 acc: 0.11488 val_loss: 0.06313, val_acc: 0.13680\n"
     ]
    },
    {
     "data": {
      "application/vnd.jupyter.widget-view+json": {
       "model_id": "46d929a2dfbe497f91945078edf3d77d",
       "version_major": 2,
       "version_minor": 0
      },
      "text/plain": [
       "  0%|          | 0/625 [00:00<?, ?it/s]"
      ]
     },
     "metadata": {},
     "output_type": "display_data"
    },
    {
     "name": "stdout",
     "output_type": "stream",
     "text": [
      "Epoch [9/40], loss: 0.06432 acc: 0.12367 val_loss: 0.06139, val_acc: 0.15970\n"
     ]
    },
    {
     "data": {
      "application/vnd.jupyter.widget-view+json": {
       "model_id": "428a6042a939437c9d1bce8dd2f6253b",
       "version_major": 2,
       "version_minor": 0
      },
      "text/plain": [
       "  0%|          | 0/625 [00:00<?, ?it/s]"
      ]
     },
     "metadata": {},
     "output_type": "display_data"
    },
    {
     "name": "stdout",
     "output_type": "stream",
     "text": [
      "Epoch [10/40], loss: 0.06344 acc: 0.13225 val_loss: 0.06122, val_acc: 0.15950\n"
     ]
    },
    {
     "data": {
      "application/vnd.jupyter.widget-view+json": {
       "model_id": "0adf59697dc7469da3a72f30ab3b6bd4",
       "version_major": 2,
       "version_minor": 0
      },
      "text/plain": [
       "  0%|          | 0/625 [00:00<?, ?it/s]"
      ]
     },
     "metadata": {},
     "output_type": "display_data"
    },
    {
     "name": "stdout",
     "output_type": "stream",
     "text": [
      "Epoch [11/40], loss: 0.06255 acc: 0.13790 val_loss: 0.06839, val_acc: 0.10530\n"
     ]
    },
    {
     "data": {
      "application/vnd.jupyter.widget-view+json": {
       "model_id": "53aabb531a4a4ee5a327c7e418c9d1c3",
       "version_major": 2,
       "version_minor": 0
      },
      "text/plain": [
       "  0%|          | 0/625 [00:00<?, ?it/s]"
      ]
     },
     "metadata": {},
     "output_type": "display_data"
    },
    {
     "name": "stdout",
     "output_type": "stream",
     "text": [
      "Epoch [12/40], loss: 0.06189 acc: 0.14745 val_loss: 0.05947, val_acc: 0.17540\n"
     ]
    },
    {
     "data": {
      "application/vnd.jupyter.widget-view+json": {
       "model_id": "02002f3d7e0642e88b23df71baed605b",
       "version_major": 2,
       "version_minor": 0
      },
      "text/plain": [
       "  0%|          | 0/625 [00:00<?, ?it/s]"
      ]
     },
     "metadata": {},
     "output_type": "display_data"
    },
    {
     "name": "stdout",
     "output_type": "stream",
     "text": [
      "Epoch [13/40], loss: 0.06128 acc: 0.14888 val_loss: 0.06196, val_acc: 0.16350\n"
     ]
    },
    {
     "data": {
      "application/vnd.jupyter.widget-view+json": {
       "model_id": "5a26e4bade6445bf945155eecd751ef9",
       "version_major": 2,
       "version_minor": 0
      },
      "text/plain": [
       "  0%|          | 0/625 [00:00<?, ?it/s]"
      ]
     },
     "metadata": {},
     "output_type": "display_data"
    },
    {
     "name": "stdout",
     "output_type": "stream",
     "text": [
      "Epoch [14/40], loss: 0.06053 acc: 0.15987 val_loss: 0.06129, val_acc: 0.16880\n"
     ]
    },
    {
     "data": {
      "application/vnd.jupyter.widget-view+json": {
       "model_id": "1ddc936a93cc445389eff571283542ee",
       "version_major": 2,
       "version_minor": 0
      },
      "text/plain": [
       "  0%|          | 0/625 [00:00<?, ?it/s]"
      ]
     },
     "metadata": {},
     "output_type": "display_data"
    },
    {
     "name": "stdout",
     "output_type": "stream",
     "text": [
      "Epoch [15/40], loss: 0.05994 acc: 0.16428 val_loss: 0.06069, val_acc: 0.16700\n"
     ]
    },
    {
     "data": {
      "application/vnd.jupyter.widget-view+json": {
       "model_id": "93c84340509e4bcab7cdacb037524796",
       "version_major": 2,
       "version_minor": 0
      },
      "text/plain": [
       "  0%|          | 0/625 [00:00<?, ?it/s]"
      ]
     },
     "metadata": {},
     "output_type": "display_data"
    },
    {
     "name": "stdout",
     "output_type": "stream",
     "text": [
      "Epoch [16/40], loss: 0.05920 acc: 0.16930 val_loss: 0.06337, val_acc: 0.15450\n"
     ]
    },
    {
     "data": {
      "application/vnd.jupyter.widget-view+json": {
       "model_id": "c1449cb66c25473ea3e98a89acbc182b",
       "version_major": 2,
       "version_minor": 0
      },
      "text/plain": [
       "  0%|          | 0/625 [00:00<?, ?it/s]"
      ]
     },
     "metadata": {},
     "output_type": "display_data"
    },
    {
     "name": "stdout",
     "output_type": "stream",
     "text": [
      "Epoch [17/40], loss: 0.05858 acc: 0.17752 val_loss: 0.06206, val_acc: 0.17220\n"
     ]
    },
    {
     "data": {
      "application/vnd.jupyter.widget-view+json": {
       "model_id": "584cf11352124be78b18f3e9c3140d83",
       "version_major": 2,
       "version_minor": 0
      },
      "text/plain": [
       "  0%|          | 0/625 [00:00<?, ?it/s]"
      ]
     },
     "metadata": {},
     "output_type": "display_data"
    },
    {
     "name": "stdout",
     "output_type": "stream",
     "text": [
      "Epoch [18/40], loss: 0.05804 acc: 0.18272 val_loss: 0.05917, val_acc: 0.19120\n"
     ]
    },
    {
     "data": {
      "application/vnd.jupyter.widget-view+json": {
       "model_id": "1291f64d265f4847b1f04d06844a5a09",
       "version_major": 2,
       "version_minor": 0
      },
      "text/plain": [
       "  0%|          | 0/625 [00:00<?, ?it/s]"
      ]
     },
     "metadata": {},
     "output_type": "display_data"
    },
    {
     "name": "stdout",
     "output_type": "stream",
     "text": [
      "Epoch [19/40], loss: 0.05754 acc: 0.18798 val_loss: 0.05970, val_acc: 0.18820\n"
     ]
    },
    {
     "data": {
      "application/vnd.jupyter.widget-view+json": {
       "model_id": "a2ba48bca44a48a5bb3481ee0effb7a3",
       "version_major": 2,
       "version_minor": 0
      },
      "text/plain": [
       "  0%|          | 0/625 [00:00<?, ?it/s]"
      ]
     },
     "metadata": {},
     "output_type": "display_data"
    },
    {
     "name": "stdout",
     "output_type": "stream",
     "text": [
      "Epoch [20/40], loss: 0.05558 acc: 0.20735 val_loss: 0.05667, val_acc: 0.21520\n"
     ]
    },
    {
     "data": {
      "application/vnd.jupyter.widget-view+json": {
       "model_id": "2a27e632136b4dbc8dd763543fb7c27e",
       "version_major": 2,
       "version_minor": 0
      },
      "text/plain": [
       "  0%|          | 0/625 [00:00<?, ?it/s]"
      ]
     },
     "metadata": {},
     "output_type": "display_data"
    },
    {
     "name": "stdout",
     "output_type": "stream",
     "text": [
      "Epoch [21/40], loss: 0.05512 acc: 0.21220 val_loss: 0.05724, val_acc: 0.21410\n"
     ]
    },
    {
     "data": {
      "application/vnd.jupyter.widget-view+json": {
       "model_id": "1c8bb050141f4f599b5959b896d01a64",
       "version_major": 2,
       "version_minor": 0
      },
      "text/plain": [
       "  0%|          | 0/625 [00:00<?, ?it/s]"
      ]
     },
     "metadata": {},
     "output_type": "display_data"
    },
    {
     "name": "stdout",
     "output_type": "stream",
     "text": [
      "Epoch [22/40], loss: 0.05491 acc: 0.21245 val_loss: 0.05636, val_acc: 0.22050\n"
     ]
    },
    {
     "data": {
      "application/vnd.jupyter.widget-view+json": {
       "model_id": "f0eaf914037341ae9a96c43807b3d332",
       "version_major": 2,
       "version_minor": 0
      },
      "text/plain": [
       "  0%|          | 0/625 [00:00<?, ?it/s]"
      ]
     },
     "metadata": {},
     "output_type": "display_data"
    },
    {
     "name": "stdout",
     "output_type": "stream",
     "text": [
      "Epoch [23/40], loss: 0.05474 acc: 0.21338 val_loss: 0.05560, val_acc: 0.22780\n"
     ]
    },
    {
     "data": {
      "application/vnd.jupyter.widget-view+json": {
       "model_id": "f0c40b70678d4832be033691489cc607",
       "version_major": 2,
       "version_minor": 0
      },
      "text/plain": [
       "  0%|          | 0/625 [00:00<?, ?it/s]"
      ]
     },
     "metadata": {},
     "output_type": "display_data"
    },
    {
     "name": "stdout",
     "output_type": "stream",
     "text": [
      "Epoch [24/40], loss: 0.05461 acc: 0.21463 val_loss: 0.05632, val_acc: 0.22400\n"
     ]
    },
    {
     "data": {
      "application/vnd.jupyter.widget-view+json": {
       "model_id": "9c682b8f007242fa81e00ef3a7e4af43",
       "version_major": 2,
       "version_minor": 0
      },
      "text/plain": [
       "  0%|          | 0/625 [00:00<?, ?it/s]"
      ]
     },
     "metadata": {},
     "output_type": "display_data"
    },
    {
     "name": "stdout",
     "output_type": "stream",
     "text": [
      "Epoch [25/40], loss: 0.05444 acc: 0.21798 val_loss: 0.05662, val_acc: 0.21840\n"
     ]
    },
    {
     "data": {
      "application/vnd.jupyter.widget-view+json": {
       "model_id": "0653905158d74f0a927987c292d598a0",
       "version_major": 2,
       "version_minor": 0
      },
      "text/plain": [
       "  0%|          | 0/625 [00:00<?, ?it/s]"
      ]
     },
     "metadata": {},
     "output_type": "display_data"
    },
    {
     "name": "stdout",
     "output_type": "stream",
     "text": [
      "Epoch [26/40], loss: 0.05435 acc: 0.21882 val_loss: 0.05661, val_acc: 0.21720\n"
     ]
    },
    {
     "data": {
      "application/vnd.jupyter.widget-view+json": {
       "model_id": "11b641a9bcaf417faac0b118cbd5eff0",
       "version_major": 2,
       "version_minor": 0
      },
      "text/plain": [
       "  0%|          | 0/625 [00:00<?, ?it/s]"
      ]
     },
     "metadata": {},
     "output_type": "display_data"
    },
    {
     "name": "stdout",
     "output_type": "stream",
     "text": [
      "Epoch [27/40], loss: 0.05411 acc: 0.22075 val_loss: 0.05653, val_acc: 0.22440\n"
     ]
    },
    {
     "data": {
      "application/vnd.jupyter.widget-view+json": {
       "model_id": "820ba4b617c148c8bba9ae6e0ac8aa13",
       "version_major": 2,
       "version_minor": 0
      },
      "text/plain": [
       "  0%|          | 0/625 [00:00<?, ?it/s]"
      ]
     },
     "metadata": {},
     "output_type": "display_data"
    },
    {
     "name": "stdout",
     "output_type": "stream",
     "text": [
      "Epoch [28/40], loss: 0.05401 acc: 0.22057 val_loss: 0.05577, val_acc: 0.22880\n"
     ]
    },
    {
     "data": {
      "application/vnd.jupyter.widget-view+json": {
       "model_id": "05c81a7e4a884f389e4a56af48e30742",
       "version_major": 2,
       "version_minor": 0
      },
      "text/plain": [
       "  0%|          | 0/625 [00:00<?, ?it/s]"
      ]
     },
     "metadata": {},
     "output_type": "display_data"
    },
    {
     "name": "stdout",
     "output_type": "stream",
     "text": [
      "Epoch [29/40], loss: 0.05388 acc: 0.22237 val_loss: 0.05664, val_acc: 0.22670\n"
     ]
    },
    {
     "data": {
      "application/vnd.jupyter.widget-view+json": {
       "model_id": "c0c27f917e764db9811b8ef4bb1158eb",
       "version_major": 2,
       "version_minor": 0
      },
      "text/plain": [
       "  0%|          | 0/625 [00:00<?, ?it/s]"
      ]
     },
     "metadata": {},
     "output_type": "display_data"
    },
    {
     "name": "stdout",
     "output_type": "stream",
     "text": [
      "Epoch [30/40], loss: 0.05370 acc: 0.22570 val_loss: 0.05673, val_acc: 0.22410\n"
     ]
    },
    {
     "data": {
      "application/vnd.jupyter.widget-view+json": {
       "model_id": "6041156374f544c7a09ad85c158b9322",
       "version_major": 2,
       "version_minor": 0
      },
      "text/plain": [
       "  0%|          | 0/625 [00:00<?, ?it/s]"
      ]
     },
     "metadata": {},
     "output_type": "display_data"
    },
    {
     "name": "stdout",
     "output_type": "stream",
     "text": [
      "Epoch [31/40], loss: 0.05364 acc: 0.22620 val_loss: 0.05586, val_acc: 0.22980\n"
     ]
    },
    {
     "data": {
      "application/vnd.jupyter.widget-view+json": {
       "model_id": "6f87b213d02344e2b37bd39d17ee4af0",
       "version_major": 2,
       "version_minor": 0
      },
      "text/plain": [
       "  0%|          | 0/625 [00:00<?, ?it/s]"
      ]
     },
     "metadata": {},
     "output_type": "display_data"
    },
    {
     "name": "stdout",
     "output_type": "stream",
     "text": [
      "Epoch [32/40], loss: 0.05356 acc: 0.22495 val_loss: 0.05665, val_acc: 0.22370\n"
     ]
    },
    {
     "data": {
      "application/vnd.jupyter.widget-view+json": {
       "model_id": "a27d7dff4a874bb3ac1ec683c590baa5",
       "version_major": 2,
       "version_minor": 0
      },
      "text/plain": [
       "  0%|          | 0/625 [00:00<?, ?it/s]"
      ]
     },
     "metadata": {},
     "output_type": "display_data"
    },
    {
     "name": "stdout",
     "output_type": "stream",
     "text": [
      "Epoch [33/40], loss: 0.05356 acc: 0.22598 val_loss: 0.05591, val_acc: 0.22970\n"
     ]
    },
    {
     "data": {
      "application/vnd.jupyter.widget-view+json": {
       "model_id": "897ac9902add4fc68c27f11005887b18",
       "version_major": 2,
       "version_minor": 0
      },
      "text/plain": [
       "  0%|          | 0/625 [00:00<?, ?it/s]"
      ]
     },
     "metadata": {},
     "output_type": "display_data"
    },
    {
     "name": "stdout",
     "output_type": "stream",
     "text": [
      "Epoch [34/40], loss: 0.05332 acc: 0.22900 val_loss: 0.05585, val_acc: 0.22690\n"
     ]
    },
    {
     "data": {
      "application/vnd.jupyter.widget-view+json": {
       "model_id": "db4d85f6b2944daca4fbb12e9958ec67",
       "version_major": 2,
       "version_minor": 0
      },
      "text/plain": [
       "  0%|          | 0/625 [00:00<?, ?it/s]"
      ]
     },
     "metadata": {},
     "output_type": "display_data"
    },
    {
     "name": "stdout",
     "output_type": "stream",
     "text": [
      "Epoch [35/40], loss: 0.05332 acc: 0.22915 val_loss: 0.05624, val_acc: 0.22680\n"
     ]
    },
    {
     "data": {
      "application/vnd.jupyter.widget-view+json": {
       "model_id": "63342cf088354ad8a27e5c176d6652fe",
       "version_major": 2,
       "version_minor": 0
      },
      "text/plain": [
       "  0%|          | 0/625 [00:00<?, ?it/s]"
      ]
     },
     "metadata": {},
     "output_type": "display_data"
    },
    {
     "name": "stdout",
     "output_type": "stream",
     "text": [
      "Epoch [36/40], loss: 0.05309 acc: 0.23312 val_loss: 0.05626, val_acc: 0.22280\n"
     ]
    },
    {
     "data": {
      "application/vnd.jupyter.widget-view+json": {
       "model_id": "7ac17cb89f574e4781586b63fa803298",
       "version_major": 2,
       "version_minor": 0
      },
      "text/plain": [
       "  0%|          | 0/625 [00:00<?, ?it/s]"
      ]
     },
     "metadata": {},
     "output_type": "display_data"
    },
    {
     "name": "stdout",
     "output_type": "stream",
     "text": [
      "Epoch [37/40], loss: 0.05303 acc: 0.23108 val_loss: 0.05676, val_acc: 0.22670\n"
     ]
    },
    {
     "data": {
      "application/vnd.jupyter.widget-view+json": {
       "model_id": "9bf7b39c76a34ed9a9dc81e6c4af43a7",
       "version_major": 2,
       "version_minor": 0
      },
      "text/plain": [
       "  0%|          | 0/625 [00:00<?, ?it/s]"
      ]
     },
     "metadata": {},
     "output_type": "display_data"
    },
    {
     "name": "stdout",
     "output_type": "stream",
     "text": [
      "Epoch [38/40], loss: 0.05315 acc: 0.23228 val_loss: 0.05583, val_acc: 0.23080\n"
     ]
    },
    {
     "data": {
      "application/vnd.jupyter.widget-view+json": {
       "model_id": "3ed87dd40bf646eb974ba4d8729ad591",
       "version_major": 2,
       "version_minor": 0
      },
      "text/plain": [
       "  0%|          | 0/625 [00:00<?, ?it/s]"
      ]
     },
     "metadata": {},
     "output_type": "display_data"
    },
    {
     "name": "stdout",
     "output_type": "stream",
     "text": [
      "Epoch [39/40], loss: 0.05281 acc: 0.23530 val_loss: 0.05667, val_acc: 0.22540\n"
     ]
    },
    {
     "data": {
      "application/vnd.jupyter.widget-view+json": {
       "model_id": "909b95b357c142d38660156633ebaaa0",
       "version_major": 2,
       "version_minor": 0
      },
      "text/plain": [
       "  0%|          | 0/625 [00:00<?, ?it/s]"
      ]
     },
     "metadata": {},
     "output_type": "display_data"
    },
    {
     "name": "stdout",
     "output_type": "stream",
     "text": [
      "Epoch [40/40], loss: 0.05263 acc: 0.23465 val_loss: 0.05589, val_acc: 0.23180\n"
     ]
    }
   ],
   "source": [
    "# loss function: cross entropy損失関数： 交差エントロピー関数\n",
    "criterion = nn.CrossEntropyLoss().to(device)\n",
    "\n",
    "# learning step 学習率\n",
    "lr = 0.001\n",
    "\n",
    "# optimizser 最適化関数: 勾配降下法\n",
    "optimizer = optim.Adam(net.parameters(),lr=lr)\n",
    "#optimizer = optim.SGD(net.parameters(), lr=lr, momentum=0.9)\n",
    "\n",
    "# epock 繰り返し回数\n",
    "num_epochs = 40\n",
    "\n",
    "# output 評価結果記録用\n",
    "history = np.zeros((0,5))\n",
    "\n",
    "# learning: 学習\n",
    "history = fit(net, optimizer, criterion, num_epochs, train_loader, test_loader, device, history)"
   ]
  },
  {
   "cell_type": "code",
   "execution_count": 20,
   "id": "36f65453",
   "metadata": {},
   "outputs": [],
   "source": [
    "torch.save(net.state_dict(), './cnn_best_so_far_40epoch.pth')"
   ]
  },
  {
   "cell_type": "code",
   "execution_count": 21,
   "id": "4485c883",
   "metadata": {},
   "outputs": [
    {
     "name": "stdout",
     "output_type": "stream",
     "text": [
      "Initial: loss: 0.07537 accuracy: 0.04860\n",
      "Final: loss: 0.05589 accuracy: 0.23180\n"
     ]
    },
    {
     "data": {
      "image/png": "[encoded data removed]",
      "text/plain": [
       "<Figure size 648x576 with 1 Axes>"
      ]
     },
     "metadata": {},
     "output_type": "display_data"
    },
    {
     "data": {
      "image/png": "[encoded data removed]",
      "text/plain": [
       "<Figure size 648x576 with 1 Axes>"
      ]
     },
     "metadata": {},
     "output_type": "display_data"
    }
   ],
   "source": [
    "# 評価\n",
    "evaluate_history(history)"
   ]
  },
  {
   "cell_type": "code",
   "execution_count": null,
   "id": "f526ec3f",
   "metadata": {},
   "outputs": [],
   "source": []
  }
 ],
 "metadata": {
  "kernelspec": {
   "display_name": "Python 3 (ipykernel)",
   "language": "python",
   "name": "python3"
  },
  "language_info": {
   "codemirror_mode": {
    "name": "ipython",
    "version": 3
   },
   "file_extension": ".py",
   "mimetype": "text/x-python",
   "name": "python",
   "nbconvert_exporter": "python",
   "pygments_lexer": "ipython3",
   "version": "3.8.12"
  }
 },
 "nbformat": 4,
 "nbformat_minor": 5
}
